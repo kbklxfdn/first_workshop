{
 "cells": [
  {
   "cell_type": "markdown",
   "id": "24a87f67",
   "metadata": {},
   "source": [
    "#  Предсказания закрытия стартапов"
   ]
  },
  {
   "cell_type": "markdown",
   "id": "ec95bc3a-5be3-4274-8108-32272ce56931",
   "metadata": {},
   "source": [
    "**Цель проекта**\n",
    "\n"
   ]
  },
  {
   "cell_type": "markdown",
   "id": "30e2efbf",
   "metadata": {},
   "source": [
    "## Загрузка данных"
   ]
  },
  {
   "cell_type": "code",
   "execution_count": 1,
   "id": "9d915853",
   "metadata": {},
   "outputs": [],
   "source": [
    "# #Устанавливаем необходимые компоненты\n",
    "# !pip install phik -q\n",
    "# !pip install --upgrade scikit-learn -q\n",
    "# !pip install shap -q"
   ]
  },
  {
   "cell_type": "code",
   "execution_count": 2,
   "id": "bed9872e",
   "metadata": {},
   "outputs": [],
   "source": [
    "# Импортируем необходимые библиотеки\n",
    "import pandas as pd\n",
    "import numpy as np\n",
    "import seaborn as sns\n",
    "import matplotlib.pyplot as plt\n",
    "from scipy import stats as stb\n",
    "import math\n",
    "import os\n",
    "from IPython.display import display\n",
    "\n",
    "#import phik\n",
    "from sklearn.pipeline import Pipeline\n",
    "from sklearn.compose import ColumnTransformer\n",
    "\n",
    "from sklearn.model_selection import train_test_split\n",
    "from sklearn.model_selection import GridSearchCV, RandomizedSearchCV\n",
    "\n",
    "from sklearn.preprocessing import OneHotEncoder, OrdinalEncoder, LabelEncoder\n",
    "from sklearn.preprocessing import StandardScaler, MinMaxScaler\n",
    "from sklearn.impute import SimpleImputer\n",
    "from sklearn.linear_model import LogisticRegression\n",
    "from sklearn.svm import SVC\n",
    "from sklearn.neighbors import KNeighborsClassifier\n",
    "from sklearn.tree import DecisionTreeClassifier\n",
    "\n",
    "\n",
    "from sklearn.metrics import mean_absolute_error, mean_squared_error, r2_score\n",
    "from sklearn.metrics import accuracy_score, confusion_matrix, recall_score, precision_score, roc_auc_score\n",
    "#import shap\n",
    "\n",
    "RANDOM_STATE = 42\n",
    "TEST_SIZE = 0.25\n",
    "\n",
    "pd.set_option('display.max_columns', None)\n",
    "pd.options.mode.chained_assignment = None\n",
    "sns.set_theme(style='darkgrid')\n",
    "pd.set_option('display.float_format', '{:,.3f}'.format)"
   ]
  },
  {
   "cell_type": "code",
   "execution_count": 3,
   "id": "8b8f8c14",
   "metadata": {},
   "outputs": [],
   "source": [
    "# Загружаем данные из файлов в датафремы\n",
    "\n",
    "pth1, pth2, pth3 = (r\"datasets\\kaggle_startups_train_28062024.csv\",\n",
    "                    r\"datasets\\kaggle_startups_test_28062024.csv\",\n",
    "                    r\"datasets\\kaggle_startups_sample_submit_28062024.csv\")\n",
    "\n",
    "if os.path.exists(pth1) and os.path.exists(pth2) and os.path.exists(pth3):\n",
    "    startups_train = pd.read_csv(pth1, sep=',')\n",
    "    startups_test = pd.read_csv(pth2, sep=',')\n",
    "    target_test = pd.read_csv(pth3, sep=',')\n",
    "else:\n",
    "    print('Проверьте правильность написания пути к файлам или их доступность по указанному адресу')"
   ]
  },
  {
   "cell_type": "code",
   "execution_count": 4,
   "id": "ef0c3ca1",
   "metadata": {},
   "outputs": [],
   "source": [
    "# Составляем список датафреймов и их имен\n",
    "dfs = [startups_train, startups_test, target_test]\n",
    "name_dfs = ['startups_train', 'startups_test', 'target_test']\n",
    "\n",
    "# Функция для отображения информации по df, первые строки, типы данных, размер\n",
    "def data_view(df):\n",
    "    display(df.head())\n",
    "    print('\\n\\033[1mИнформация по составу датафрейма:\\033[0m\\n')\n",
    "    df.info()\n",
    "    print('\\n\\n\\n')"
   ]
  },
  {
   "cell_type": "code",
   "execution_count": 5,
   "id": "fd909bd7",
   "metadata": {},
   "outputs": [],
   "source": [
    "# Цикл для просмотра информации по данным датафремов\n",
    "def df_view(dfs, name_dfs):\n",
    "    i = 0\n",
    "    for df in dfs:\n",
    "        print(f'\\033[1mДатафрейм {name_dfs[i]}:\\033[0m')\n",
    "        data_view(df)\n",
    "        i += 1"
   ]
  },
  {
   "cell_type": "code",
   "execution_count": 6,
   "id": "4f7fdfe8",
   "metadata": {},
   "outputs": [
    {
     "name": "stdout",
     "output_type": "stream",
     "text": [
      "\u001b[1mДатафрейм startups_train:\u001b[0m\n"
     ]
    },
    {
     "data": {
      "text/html": [
       "<div>\n",
       "<style scoped>\n",
       "    .dataframe tbody tr th:only-of-type {\n",
       "        vertical-align: middle;\n",
       "    }\n",
       "\n",
       "    .dataframe tbody tr th {\n",
       "        vertical-align: top;\n",
       "    }\n",
       "\n",
       "    .dataframe thead th {\n",
       "        text-align: right;\n",
       "    }\n",
       "</style>\n",
       "<table border=\"1\" class=\"dataframe\">\n",
       "  <thead>\n",
       "    <tr style=\"text-align: right;\">\n",
       "      <th></th>\n",
       "      <th>name</th>\n",
       "      <th>category_list</th>\n",
       "      <th>funding_total_usd</th>\n",
       "      <th>status</th>\n",
       "      <th>country_code</th>\n",
       "      <th>state_code</th>\n",
       "      <th>region</th>\n",
       "      <th>city</th>\n",
       "      <th>funding_rounds</th>\n",
       "      <th>founded_at</th>\n",
       "      <th>first_funding_at</th>\n",
       "      <th>last_funding_at</th>\n",
       "      <th>closed_at</th>\n",
       "    </tr>\n",
       "  </thead>\n",
       "  <tbody>\n",
       "    <tr>\n",
       "      <th>0</th>\n",
       "      <td>Lunchgate</td>\n",
       "      <td>Online Reservations|Restaurants</td>\n",
       "      <td>828,626.000</td>\n",
       "      <td>operating</td>\n",
       "      <td>CHE</td>\n",
       "      <td>25</td>\n",
       "      <td>Zurich</td>\n",
       "      <td>Zürich</td>\n",
       "      <td>2</td>\n",
       "      <td>2009-10-17</td>\n",
       "      <td>2011-05-01</td>\n",
       "      <td>2014-12-01</td>\n",
       "      <td>NaN</td>\n",
       "    </tr>\n",
       "    <tr>\n",
       "      <th>1</th>\n",
       "      <td>EarLens</td>\n",
       "      <td>Manufacturing|Medical|Medical Devices</td>\n",
       "      <td>42,935,019.000</td>\n",
       "      <td>operating</td>\n",
       "      <td>USA</td>\n",
       "      <td>CA</td>\n",
       "      <td>SF Bay Area</td>\n",
       "      <td>Redwood City</td>\n",
       "      <td>4</td>\n",
       "      <td>2005-01-01</td>\n",
       "      <td>2010-05-04</td>\n",
       "      <td>2014-02-25</td>\n",
       "      <td>NaN</td>\n",
       "    </tr>\n",
       "    <tr>\n",
       "      <th>2</th>\n",
       "      <td>Reviva Pharmaceuticals</td>\n",
       "      <td>Biotechnology</td>\n",
       "      <td>35,456,381.000</td>\n",
       "      <td>operating</td>\n",
       "      <td>USA</td>\n",
       "      <td>CA</td>\n",
       "      <td>SF Bay Area</td>\n",
       "      <td>San Jose</td>\n",
       "      <td>3</td>\n",
       "      <td>2006-01-01</td>\n",
       "      <td>2012-08-20</td>\n",
       "      <td>2014-07-02</td>\n",
       "      <td>NaN</td>\n",
       "    </tr>\n",
       "    <tr>\n",
       "      <th>3</th>\n",
       "      <td>Sancilio and Company</td>\n",
       "      <td>Health Care</td>\n",
       "      <td>22,250,000.000</td>\n",
       "      <td>operating</td>\n",
       "      <td>NaN</td>\n",
       "      <td>NaN</td>\n",
       "      <td>NaN</td>\n",
       "      <td>NaN</td>\n",
       "      <td>3</td>\n",
       "      <td>2004-01-01</td>\n",
       "      <td>2011-09-01</td>\n",
       "      <td>2014-07-18</td>\n",
       "      <td>NaN</td>\n",
       "    </tr>\n",
       "    <tr>\n",
       "      <th>4</th>\n",
       "      <td>WireTough Cylinders</td>\n",
       "      <td>Manufacturing</td>\n",
       "      <td>NaN</td>\n",
       "      <td>operating</td>\n",
       "      <td>USA</td>\n",
       "      <td>VA</td>\n",
       "      <td>VA - Other</td>\n",
       "      <td>Bristol</td>\n",
       "      <td>1</td>\n",
       "      <td>2010-05-12</td>\n",
       "      <td>2012-02-01</td>\n",
       "      <td>2012-02-01</td>\n",
       "      <td>NaN</td>\n",
       "    </tr>\n",
       "  </tbody>\n",
       "</table>\n",
       "</div>"
      ],
      "text/plain": [
       "                     name                          category_list  \\\n",
       "0               Lunchgate        Online Reservations|Restaurants   \n",
       "1                 EarLens  Manufacturing|Medical|Medical Devices   \n",
       "2  Reviva Pharmaceuticals                          Biotechnology   \n",
       "3    Sancilio and Company                            Health Care   \n",
       "4     WireTough Cylinders                          Manufacturing   \n",
       "\n",
       "   funding_total_usd     status country_code state_code       region  \\\n",
       "0        828,626.000  operating          CHE         25       Zurich   \n",
       "1     42,935,019.000  operating          USA         CA  SF Bay Area   \n",
       "2     35,456,381.000  operating          USA         CA  SF Bay Area   \n",
       "3     22,250,000.000  operating          NaN        NaN          NaN   \n",
       "4                NaN  operating          USA         VA   VA - Other   \n",
       "\n",
       "           city  funding_rounds  founded_at first_funding_at last_funding_at  \\\n",
       "0        Zürich               2  2009-10-17       2011-05-01      2014-12-01   \n",
       "1  Redwood City               4  2005-01-01       2010-05-04      2014-02-25   \n",
       "2      San Jose               3  2006-01-01       2012-08-20      2014-07-02   \n",
       "3           NaN               3  2004-01-01       2011-09-01      2014-07-18   \n",
       "4       Bristol               1  2010-05-12       2012-02-01      2012-02-01   \n",
       "\n",
       "  closed_at  \n",
       "0       NaN  \n",
       "1       NaN  \n",
       "2       NaN  \n",
       "3       NaN  \n",
       "4       NaN  "
      ]
     },
     "metadata": {},
     "output_type": "display_data"
    },
    {
     "name": "stdout",
     "output_type": "stream",
     "text": [
      "\n",
      "\u001b[1mИнформация по составу датафрейма:\u001b[0m\n",
      "\n",
      "<class 'pandas.core.frame.DataFrame'>\n",
      "RangeIndex: 52516 entries, 0 to 52515\n",
      "Data columns (total 13 columns):\n",
      " #   Column             Non-Null Count  Dtype  \n",
      "---  ------             --------------  -----  \n",
      " 0   name               52515 non-null  object \n",
      " 1   category_list      50051 non-null  object \n",
      " 2   funding_total_usd  42447 non-null  float64\n",
      " 3   status             52516 non-null  object \n",
      " 4   country_code       47014 non-null  object \n",
      " 5   state_code         45753 non-null  object \n",
      " 6   region             46157 non-null  object \n",
      " 7   city               46157 non-null  object \n",
      " 8   funding_rounds     52516 non-null  int64  \n",
      " 9   founded_at         52516 non-null  object \n",
      " 10  first_funding_at   52516 non-null  object \n",
      " 11  last_funding_at    52516 non-null  object \n",
      " 12  closed_at          4917 non-null   object \n",
      "dtypes: float64(1), int64(1), object(11)\n",
      "memory usage: 5.2+ MB\n",
      "\n",
      "\n",
      "\n",
      "\n",
      "\u001b[1mДатафрейм startups_test:\u001b[0m\n"
     ]
    },
    {
     "data": {
      "text/html": [
       "<div>\n",
       "<style scoped>\n",
       "    .dataframe tbody tr th:only-of-type {\n",
       "        vertical-align: middle;\n",
       "    }\n",
       "\n",
       "    .dataframe tbody tr th {\n",
       "        vertical-align: top;\n",
       "    }\n",
       "\n",
       "    .dataframe thead th {\n",
       "        text-align: right;\n",
       "    }\n",
       "</style>\n",
       "<table border=\"1\" class=\"dataframe\">\n",
       "  <thead>\n",
       "    <tr style=\"text-align: right;\">\n",
       "      <th></th>\n",
       "      <th>name</th>\n",
       "      <th>category_list</th>\n",
       "      <th>funding_total_usd</th>\n",
       "      <th>country_code</th>\n",
       "      <th>state_code</th>\n",
       "      <th>region</th>\n",
       "      <th>city</th>\n",
       "      <th>funding_rounds</th>\n",
       "      <th>first_funding_at</th>\n",
       "      <th>last_funding_at</th>\n",
       "      <th>lifetime</th>\n",
       "    </tr>\n",
       "  </thead>\n",
       "  <tbody>\n",
       "    <tr>\n",
       "      <th>0</th>\n",
       "      <td>Crystalsol</td>\n",
       "      <td>Clean Technology</td>\n",
       "      <td>2,819,200.000</td>\n",
       "      <td>NIC</td>\n",
       "      <td>17</td>\n",
       "      <td>NaN</td>\n",
       "      <td>NaN</td>\n",
       "      <td>1</td>\n",
       "      <td>2009-07-01</td>\n",
       "      <td>2009-07-01</td>\n",
       "      <td>3501</td>\n",
       "    </tr>\n",
       "    <tr>\n",
       "      <th>1</th>\n",
       "      <td>JBI Fish &amp; Wings</td>\n",
       "      <td>Hospitality</td>\n",
       "      <td>NaN</td>\n",
       "      <td>USA</td>\n",
       "      <td>TN</td>\n",
       "      <td>TN - Other</td>\n",
       "      <td>Humboldt</td>\n",
       "      <td>1</td>\n",
       "      <td>2010-07-28</td>\n",
       "      <td>2010-07-28</td>\n",
       "      <td>2717</td>\n",
       "    </tr>\n",
       "    <tr>\n",
       "      <th>2</th>\n",
       "      <td>COINPLUS</td>\n",
       "      <td>Finance</td>\n",
       "      <td>428,257.000</td>\n",
       "      <td>LUX</td>\n",
       "      <td>3</td>\n",
       "      <td>Esch-sur-alzette</td>\n",
       "      <td>Esch-sur-alzette</td>\n",
       "      <td>2</td>\n",
       "      <td>2014-05-15</td>\n",
       "      <td>2014-09-18</td>\n",
       "      <td>1295</td>\n",
       "    </tr>\n",
       "    <tr>\n",
       "      <th>3</th>\n",
       "      <td>Imagine Communications</td>\n",
       "      <td>Software|Video|Video Streaming</td>\n",
       "      <td>34,700,000.000</td>\n",
       "      <td>USA</td>\n",
       "      <td>CA</td>\n",
       "      <td>San Diego</td>\n",
       "      <td>San Diego</td>\n",
       "      <td>4</td>\n",
       "      <td>2005-01-01</td>\n",
       "      <td>2010-04-20</td>\n",
       "      <td>4748</td>\n",
       "    </tr>\n",
       "    <tr>\n",
       "      <th>4</th>\n",
       "      <td>DNA13</td>\n",
       "      <td>Software</td>\n",
       "      <td>4,530,000.000</td>\n",
       "      <td>CAN</td>\n",
       "      <td>ON</td>\n",
       "      <td>Ottawa</td>\n",
       "      <td>Ottawa</td>\n",
       "      <td>1</td>\n",
       "      <td>2007-05-08</td>\n",
       "      <td>2007-05-08</td>\n",
       "      <td>6209</td>\n",
       "    </tr>\n",
       "  </tbody>\n",
       "</table>\n",
       "</div>"
      ],
      "text/plain": [
       "                     name                   category_list  funding_total_usd  \\\n",
       "0              Crystalsol                Clean Technology      2,819,200.000   \n",
       "1        JBI Fish & Wings                     Hospitality                NaN   \n",
       "2                COINPLUS                         Finance        428,257.000   \n",
       "3  Imagine Communications  Software|Video|Video Streaming     34,700,000.000   \n",
       "4                   DNA13                        Software      4,530,000.000   \n",
       "\n",
       "  country_code state_code            region              city  funding_rounds  \\\n",
       "0          NIC         17               NaN               NaN               1   \n",
       "1          USA         TN        TN - Other          Humboldt               1   \n",
       "2          LUX          3  Esch-sur-alzette  Esch-sur-alzette               2   \n",
       "3          USA         CA         San Diego         San Diego               4   \n",
       "4          CAN         ON            Ottawa            Ottawa               1   \n",
       "\n",
       "  first_funding_at last_funding_at  lifetime  \n",
       "0       2009-07-01      2009-07-01      3501  \n",
       "1       2010-07-28      2010-07-28      2717  \n",
       "2       2014-05-15      2014-09-18      1295  \n",
       "3       2005-01-01      2010-04-20      4748  \n",
       "4       2007-05-08      2007-05-08      6209  "
      ]
     },
     "metadata": {},
     "output_type": "display_data"
    },
    {
     "name": "stdout",
     "output_type": "stream",
     "text": [
      "\n",
      "\u001b[1mИнформация по составу датафрейма:\u001b[0m\n",
      "\n",
      "<class 'pandas.core.frame.DataFrame'>\n",
      "RangeIndex: 13125 entries, 0 to 13124\n",
      "Data columns (total 11 columns):\n",
      " #   Column             Non-Null Count  Dtype  \n",
      "---  ------             --------------  -----  \n",
      " 0   name               13125 non-null  object \n",
      " 1   category_list      12534 non-null  object \n",
      " 2   funding_total_usd  10547 non-null  float64\n",
      " 3   country_code       11743 non-null  object \n",
      " 4   state_code         11430 non-null  object \n",
      " 5   region             11536 non-null  object \n",
      " 6   city               11538 non-null  object \n",
      " 7   funding_rounds     13125 non-null  int64  \n",
      " 8   first_funding_at   13125 non-null  object \n",
      " 9   last_funding_at    13125 non-null  object \n",
      " 10  lifetime           13125 non-null  int64  \n",
      "dtypes: float64(1), int64(2), object(8)\n",
      "memory usage: 1.1+ MB\n",
      "\n",
      "\n",
      "\n",
      "\n",
      "\u001b[1mДатафрейм target_test:\u001b[0m\n"
     ]
    },
    {
     "data": {
      "text/html": [
       "<div>\n",
       "<style scoped>\n",
       "    .dataframe tbody tr th:only-of-type {\n",
       "        vertical-align: middle;\n",
       "    }\n",
       "\n",
       "    .dataframe tbody tr th {\n",
       "        vertical-align: top;\n",
       "    }\n",
       "\n",
       "    .dataframe thead th {\n",
       "        text-align: right;\n",
       "    }\n",
       "</style>\n",
       "<table border=\"1\" class=\"dataframe\">\n",
       "  <thead>\n",
       "    <tr style=\"text-align: right;\">\n",
       "      <th></th>\n",
       "      <th>name</th>\n",
       "      <th>status</th>\n",
       "    </tr>\n",
       "  </thead>\n",
       "  <tbody>\n",
       "    <tr>\n",
       "      <th>0</th>\n",
       "      <td>Crystalsol</td>\n",
       "      <td>closed</td>\n",
       "    </tr>\n",
       "    <tr>\n",
       "      <th>1</th>\n",
       "      <td>JBI Fish &amp; Wings</td>\n",
       "      <td>operating</td>\n",
       "    </tr>\n",
       "    <tr>\n",
       "      <th>2</th>\n",
       "      <td>COINPLUS</td>\n",
       "      <td>closed</td>\n",
       "    </tr>\n",
       "    <tr>\n",
       "      <th>3</th>\n",
       "      <td>Imagine Communications</td>\n",
       "      <td>closed</td>\n",
       "    </tr>\n",
       "    <tr>\n",
       "      <th>4</th>\n",
       "      <td>DNA13</td>\n",
       "      <td>operating</td>\n",
       "    </tr>\n",
       "  </tbody>\n",
       "</table>\n",
       "</div>"
      ],
      "text/plain": [
       "                     name     status\n",
       "0              Crystalsol     closed\n",
       "1        JBI Fish & Wings  operating\n",
       "2                COINPLUS     closed\n",
       "3  Imagine Communications     closed\n",
       "4                   DNA13  operating"
      ]
     },
     "metadata": {},
     "output_type": "display_data"
    },
    {
     "name": "stdout",
     "output_type": "stream",
     "text": [
      "\n",
      "\u001b[1mИнформация по составу датафрейма:\u001b[0m\n",
      "\n",
      "<class 'pandas.core.frame.DataFrame'>\n",
      "RangeIndex: 13125 entries, 0 to 13124\n",
      "Data columns (total 2 columns):\n",
      " #   Column  Non-Null Count  Dtype \n",
      "---  ------  --------------  ----- \n",
      " 0   name    13125 non-null  object\n",
      " 1   status  13125 non-null  object\n",
      "dtypes: object(2)\n",
      "memory usage: 205.2+ KB\n",
      "\n",
      "\n",
      "\n",
      "\n"
     ]
    }
   ],
   "source": [
    "df_view(dfs, name_dfs)"
   ]
  },
  {
   "cell_type": "markdown",
   "id": "b4b1cd58",
   "metadata": {},
   "source": [
    "## Предобработка данных"
   ]
  },
  {
   "cell_type": "markdown",
   "id": "eca2860a",
   "metadata": {},
   "source": [
    "### Проверка корректности оформления столбцов"
   ]
  },
  {
   "cell_type": "code",
   "execution_count": null,
   "id": "f657bfb5",
   "metadata": {},
   "outputs": [],
   "source": []
  },
  {
   "cell_type": "markdown",
   "id": "9b44b963",
   "metadata": {},
   "source": [
    "### Анализ пропущенных значений"
   ]
  },
  {
   "cell_type": "code",
   "execution_count": null,
   "id": "eea2d481",
   "metadata": {},
   "outputs": [],
   "source": []
  },
  {
   "cell_type": "markdown",
   "id": "da67f42b",
   "metadata": {},
   "source": [
    "### Проверка наличия явных и неявных дубикатов"
   ]
  },
  {
   "cell_type": "code",
   "execution_count": null,
   "id": "d235fda4",
   "metadata": {},
   "outputs": [],
   "source": []
  },
  {
   "cell_type": "markdown",
   "id": "7dbe23fe",
   "metadata": {},
   "source": [
    "## Исследовательский анализ данных"
   ]
  },
  {
   "cell_type": "markdown",
   "id": "3a29dbbf",
   "metadata": {},
   "source": [
    "### Анализ количественных признаков"
   ]
  },
  {
   "cell_type": "code",
   "execution_count": null,
   "id": "b4363295",
   "metadata": {},
   "outputs": [],
   "source": []
  },
  {
   "cell_type": "markdown",
   "id": "d097af2c",
   "metadata": {},
   "source": [
    "### Анализ категориальных признаков"
   ]
  },
  {
   "cell_type": "code",
   "execution_count": null,
   "id": "1b11c2c6",
   "metadata": {},
   "outputs": [],
   "source": []
  },
  {
   "cell_type": "markdown",
   "id": "9ed9ec87",
   "metadata": {},
   "source": [
    "### Проверка наличия дисбаланса в данных по целевой переменной"
   ]
  },
  {
   "cell_type": "code",
   "execution_count": null,
   "id": "9d3a6048",
   "metadata": {},
   "outputs": [],
   "source": []
  },
  {
   "cell_type": "markdown",
   "id": "536c6eee",
   "metadata": {},
   "source": [
    "## Создание новых признаков"
   ]
  },
  {
   "cell_type": "code",
   "execution_count": null,
   "id": "709df374",
   "metadata": {},
   "outputs": [],
   "source": []
  },
  {
   "cell_type": "markdown",
   "id": "140d24e1",
   "metadata": {},
   "source": [
    "## Корреляционный анализ и финальный отбор признаков"
   ]
  },
  {
   "cell_type": "code",
   "execution_count": null,
   "id": "40d6099d",
   "metadata": {},
   "outputs": [],
   "source": []
  },
  {
   "cell_type": "markdown",
   "id": "8004ab4b",
   "metadata": {},
   "source": [
    "## Разработка моделей МО"
   ]
  },
  {
   "cell_type": "code",
   "execution_count": null,
   "id": "b5f95f01",
   "metadata": {},
   "outputs": [],
   "source": []
  },
  {
   "cell_type": "markdown",
   "id": "2427e0d5",
   "metadata": {},
   "source": [
    "### Подготовка данных для моделей"
   ]
  },
  {
   "cell_type": "code",
   "execution_count": null,
   "id": "43c0a094",
   "metadata": {},
   "outputs": [],
   "source": []
  },
  {
   "cell_type": "markdown",
   "id": "8416d783",
   "metadata": {},
   "source": [
    "### Обучение моделей в пайплайне"
   ]
  },
  {
   "cell_type": "code",
   "execution_count": null,
   "id": "be64349e",
   "metadata": {},
   "outputs": [],
   "source": []
  },
  {
   "cell_type": "markdown",
   "id": "724bdb89",
   "metadata": {},
   "source": [
    "### Оценка результатов"
   ]
  },
  {
   "cell_type": "code",
   "execution_count": null,
   "id": "b510bed7",
   "metadata": {},
   "outputs": [],
   "source": []
  },
  {
   "cell_type": "markdown",
   "id": "16c77a2c",
   "metadata": {},
   "source": [
    "## Анализ важности признаков и рекомендации по повышению шанса на успех стартапа"
   ]
  },
  {
   "cell_type": "code",
   "execution_count": null,
   "id": "6534364d",
   "metadata": {},
   "outputs": [],
   "source": []
  },
  {
   "cell_type": "markdown",
   "id": "02584b74",
   "metadata": {},
   "source": [
    "## Общий вывод"
   ]
  },
  {
   "cell_type": "code",
   "execution_count": null,
   "id": "37b30185",
   "metadata": {},
   "outputs": [],
   "source": []
  }
 ],
 "metadata": {
  "kernelspec": {
   "display_name": "Python 3 (ipykernel)",
   "language": "python",
   "name": "python3"
  },
  "language_info": {
   "codemirror_mode": {
    "name": "ipython",
    "version": 3
   },
   "file_extension": ".py",
   "mimetype": "text/x-python",
   "name": "python",
   "nbconvert_exporter": "python",
   "pygments_lexer": "ipython3",
   "version": "3.9.19"
  },
  "toc": {
   "base_numbering": 1,
   "nav_menu": {
    "height": "360.969px",
    "width": "289.984px"
   },
   "number_sections": true,
   "sideBar": true,
   "skip_h1_title": false,
   "title_cell": "Table of Contents",
   "title_sidebar": "Contents",
   "toc_cell": false,
   "toc_position": {
    "height": "calc(100% - 180px)",
    "left": "10px",
    "top": "150px",
    "width": "399.719px"
   },
   "toc_section_display": true,
   "toc_window_display": false
  }
 },
 "nbformat": 4,
 "nbformat_minor": 5
}
